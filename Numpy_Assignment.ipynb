{
 "cells": [
  {
   "cell_type": "code",
   "execution_count": 34,
   "id": "aa8f306f-f118-48fe-94f1-690fc13e7b84",
   "metadata": {},
   "outputs": [],
   "source": [
    "import numpy as np\n",
    "import pandas as pd"
   ]
  },
  {
   "cell_type": "code",
   "execution_count": 3,
   "id": "93ed1a70-b5e7-4a28-b21e-cff0e43fe42b",
   "metadata": {},
   "outputs": [
    {
     "name": "stdout",
     "output_type": "stream",
     "text": [
      "[0 1 2 3 4 5]\n",
      "int64\n"
     ]
    }
   ],
   "source": [
    "# 1. Create a NumPy array ‘arr’ of integers from 0 to 5 and print its data type. \n",
    "\n",
    "arr1 = np.array([0,1,2,3,4,5], dtype=int)\n",
    "print(arr1)\n",
    "print(arr1.dtype)"
   ]
  },
  {
   "cell_type": "code",
   "execution_count": 4,
   "id": "e0227c84-2f4b-4242-a32c-4a11171b35a0",
   "metadata": {},
   "outputs": [
    {
     "name": "stdout",
     "output_type": "stream",
     "text": [
      "float64\n"
     ]
    }
   ],
   "source": [
    "# 2. Given a NumPy array ‘arr’, check if its data type is float64. \n",
    "arr = np.array([1.5, 2.6, 3.7]) \n",
    "print(arr.dtype)"
   ]
  },
  {
   "cell_type": "code",
   "execution_count": 5,
   "id": "d8354aba-769d-4b09-98da-ee25cf98fd8f",
   "metadata": {},
   "outputs": [
    {
     "name": "stdout",
     "output_type": "stream",
     "text": [
      "[3.+6.j 3.+4.j 5.+8.j]\n",
      "complex128\n"
     ]
    }
   ],
   "source": [
    "# 3. Create a NumPy array ‘arr’ with a data type of complex128 containing three complex numbers.\n",
    "\n",
    "arr = np.array([3+6j, 3+4j, 5+8j], dtype=np.complex128)\n",
    "print(arr)\n",
    "print(arr.dtype)"
   ]
  },
  {
   "cell_type": "code",
   "execution_count": 6,
   "id": "6e69a3d9-0378-4226-83ae-21e77d3636c2",
   "metadata": {},
   "outputs": [
    {
     "name": "stdout",
     "output_type": "stream",
     "text": [
      "[0. 1. 2. 3. 4. 5.]\n",
      "float64\n"
     ]
    }
   ],
   "source": [
    "# 4. Convert an existing NumPy array ‘arr’ of integers to float32 data type. \n",
    "\n",
    "arr = np.array([0,1,2,3,4,5], dtype=int)\n",
    "arr = arr.astype(float)\n",
    "print(arr)\n",
    "print(arr.dtype)"
   ]
  },
  {
   "cell_type": "code",
   "execution_count": 7,
   "id": "330d45d5-ac16-4301-be18-1b6f9a08f4c1",
   "metadata": {},
   "outputs": [
    {
     "name": "stdout",
     "output_type": "stream",
     "text": [
      "Initially type of array is float64\n",
      "After converting type of array is float32\n"
     ]
    }
   ],
   "source": [
    "# 5. Given a NumPy array ‘arr’ with float64 data type, convert it to float32 to reduce decimal precision.\n",
    "\n",
    "arr = np.array([2, 4, 5, 1, 9], dtype=np.float64)\n",
    "print(f\"Initially type of array is {arr.dtype}\")\n",
    "arr = arr.astype(np.float32)\n",
    "print(f\"After converting type of array is {arr.dtype}\")"
   ]
  },
  {
   "cell_type": "code",
   "execution_count": 8,
   "id": "86395202-867d-460a-9b1b-c17960d88447",
   "metadata": {},
   "outputs": [
    {
     "name": "stdout",
     "output_type": "stream",
     "text": [
      "Shape of arr: (6,)\n",
      "Size of arr: 6\n",
      "Data type of arr: int64\n"
     ]
    }
   ],
   "source": [
    "# 6. Write a function array_attributes that takes a NumPy array as input and returns its shape, size, and data type. \n",
    "\n",
    "def array_attributes(arr):\n",
    "    arr_shape = arr.shape\n",
    "    arr_size =arr.size\n",
    "    arr_datatype = arr.dtype\n",
    "    return f\"Shape of arr: {arr_shape}\\nSize of arr: {arr_size}\\nData type of arr: {arr_datatype}\"\n",
    "\n",
    "arr = np.array([4, 6, 3, 2, 9, 8])\n",
    "print(array_attributes(arr))"
   ]
  },
  {
   "cell_type": "code",
   "execution_count": 9,
   "id": "71c7174f-2bb7-4e12-9499-9191e7a3c6f1",
   "metadata": {},
   "outputs": [
    {
     "name": "stdout",
     "output_type": "stream",
     "text": [
      "Dimension of arr: 2\n"
     ]
    }
   ],
   "source": [
    "# 7. Create a function array _dimension that takes a NumPy array as input and returns its dimensionality.\n",
    "\n",
    "def array_dimension(arr):\n",
    "    return f\"Dimension of arr: {arr.ndim}\"\n",
    "\n",
    "arr = np.array([[2, 5, 6], [9, 5, 1]])\n",
    "print(array_dimension(arr))"
   ]
  },
  {
   "cell_type": "code",
   "execution_count": 10,
   "id": "41f2ddb7-0239-49fe-83d1-521c2b5ac806",
   "metadata": {},
   "outputs": [
    {
     "name": "stdout",
     "output_type": "stream",
     "text": [
      "Item size of arr: 8\n",
      "Total size of arr in bytes: 56\n"
     ]
    }
   ],
   "source": [
    "# 8. Design a function item_size_info that takes a NumPy array as input and returns the item size and the total size in bytes. \n",
    "\n",
    "def item_size_info(arr):\n",
    "    item_size = arr.itemsize\n",
    "    total_size_bytes = arr.size * arr.itemsize\n",
    "    \n",
    "    return f\"Item size of arr: {item_size}\\nTotal size of arr in bytes: {total_size_bytes}\"\n",
    "\n",
    "arr = np.array([6, 4, 3, 6, 9, 0, 12])\n",
    "print(item_size_info(arr))"
   ]
  },
  {
   "cell_type": "code",
   "execution_count": 11,
   "id": "7848cf8a-aa4d-48e2-8929-c594794286d8",
   "metadata": {},
   "outputs": [
    {
     "name": "stdout",
     "output_type": "stream",
     "text": [
      "Strides of the array: (24, 8)\n"
     ]
    }
   ],
   "source": [
    "# 9. Create a function array_strides that takes a NumPy array as input and returns the strides of the array. \n",
    "\n",
    "import numpy as np\n",
    "\n",
    "def array_strides(arr):\n",
    "    return arr.strides\n",
    "\n",
    "arr = np.array([[1, 2, 3], [4, 5, 6]])\n",
    " \n",
    "print(f\"Strides of the array: {array_strides(arr)}\") "
   ]
  },
  {
   "cell_type": "code",
   "execution_count": 12,
   "id": "5216d776-6094-4c01-b813-a8c672cf1082",
   "metadata": {},
   "outputs": [
    {
     "name": "stdout",
     "output_type": "stream",
     "text": [
      "Shape of arr: (1, 2, 3)\n",
      "Strides of arr: (48, 24, 8)\n"
     ]
    }
   ],
   "source": [
    "# 10. Design a function shape_stride_relationship that takes a NumPy array as input and returns the shape \n",
    "# and strides of the array.\n",
    "\n",
    "def shape_stride_relationship(arr):\n",
    "    arr_shape = arr.shape\n",
    "    arr_strides = arr.strides\n",
    "    \n",
    "    return f\"Shape of arr: {arr_shape}\\nStrides of arr: {arr_strides}\"\n",
    "\n",
    "arr = np.array([[[4, 6, 8], [2, 4, 6]]])\n",
    "print(shape_stride_relationship(arr))"
   ]
  },
  {
   "cell_type": "code",
   "execution_count": 13,
   "id": "0b0f8ee6-72ce-4073-a001-fac42ee7002d",
   "metadata": {},
   "outputs": [
    {
     "name": "stdout",
     "output_type": "stream",
     "text": [
      "[0. 0. 0. 0. 0.]\n"
     ]
    }
   ],
   "source": [
    "# 11. Create a function ‘create_zeros_array’ that takes an integer \"n” as input and returns a NumPy array of \n",
    "# zeros with 'n” elements. \n",
    "\n",
    "def create_zeros_array(n):\n",
    "    return np.zeros(n)\n",
    "\n",
    "print(create_zeros_array(5))"
   ]
  },
  {
   "cell_type": "code",
   "execution_count": 14,
   "id": "b419503f-9f18-4275-a415-f1cf6e068b21",
   "metadata": {},
   "outputs": [
    {
     "name": "stdout",
     "output_type": "stream",
     "text": [
      "[[1. 1. 1.]\n",
      " [1. 1. 1.]\n",
      " [1. 1. 1.]\n",
      " [1. 1. 1.]]\n"
     ]
    }
   ],
   "source": [
    "# 12. Write a function ‘create_ones_matrix’ that takes integers ‘rows™ and “cols’ as inputs and generates a 2D \n",
    "# NumPy array filled with ones of size rows x cols’.\n",
    "\n",
    "def create_ones_matrix(rows, cols):\n",
    "    return np.ones((rows, cols))\n",
    "\n",
    "print(create_ones_matrix(4, 3))"
   ]
  },
  {
   "cell_type": "code",
   "execution_count": 15,
   "id": "20ba8fe0-3f9d-475c-9b5c-aab13fe91426",
   "metadata": {},
   "outputs": [
    {
     "name": "stdout",
     "output_type": "stream",
     "text": [
      "[2 4 6]\n"
     ]
    }
   ],
   "source": [
    "# 13. Write a function ‘generate_range_array’ that takes three integers start, stop, and step as arguments and \n",
    "# creates a NumPy array with a range starting from “start’, ending at stop (exclusive), and with the specified \n",
    "# “step’. \n",
    "\n",
    "def generate_range_array(start, stop, step):\n",
    "    return np.arange(start, stop, step)\n",
    "\n",
    "print(generate_range_array(2, 8, 2))"
   ]
  },
  {
   "cell_type": "code",
   "execution_count": 16,
   "id": "9e7d1c48-2ef3-4606-8e26-b1fbe623123a",
   "metadata": {},
   "outputs": [
    {
     "name": "stdout",
     "output_type": "stream",
     "text": [
      "[ 1.   4.5  8.  11.5 15. ]\n"
     ]
    }
   ],
   "source": [
    "# 14. Design a function “generate_linear_space’ that takes two floats “start’, ‘stop’, and an integer 'num’ as \n",
    "# arguments and generates a NumPy array with num equally spaced values between “start” and “stop™ \n",
    "# (inclusive). \n",
    "\n",
    "def generate_linear_space(start, stop, n):\n",
    "    return np.linspace(start, stop, n)\n",
    "\n",
    "print(generate_linear_space(1,15,5))"
   ]
  },
  {
   "cell_type": "code",
   "execution_count": 17,
   "id": "5248d7e4-a160-4bcf-98a8-a9acb0e7d1dd",
   "metadata": {},
   "outputs": [
    {
     "name": "stdout",
     "output_type": "stream",
     "text": [
      "[[1. 0. 0. 0. 0.]\n",
      " [0. 1. 0. 0. 0.]\n",
      " [0. 0. 1. 0. 0.]\n",
      " [0. 0. 0. 1. 0.]\n",
      " [0. 0. 0. 0. 1.]]\n"
     ]
    }
   ],
   "source": [
    "# 15. Create a function ‘create_identity_matrix” that takes an integer \"n\" as input and generates a square \n",
    "# identity matrix of size 'n x n” using ‘numpy.eye’. \n",
    "\n",
    "def create_identity_matrix(n):\n",
    "    return np.eye(n)\n",
    "\n",
    "print(create_identity_matrix(5))"
   ]
  },
  {
   "cell_type": "code",
   "execution_count": 18,
   "id": "49a95115-2ae0-44fe-bddf-e9e2b8454041",
   "metadata": {},
   "outputs": [
    {
     "name": "stdout",
     "output_type": "stream",
     "text": [
      "[5 6 3 2 1 7 3]\n"
     ]
    }
   ],
   "source": [
    "# 16. Write a function that takes a Python list and converts it into a NumPy array. \n",
    "\n",
    "def create_array(l):\n",
    "    return np.array(l)\n",
    "\n",
    "l = [5, 6, 3, 2, 1, 7, 3]\n",
    "print(create_array(l))"
   ]
  },
  {
   "cell_type": "code",
   "execution_count": 19,
   "id": "2f2fd996-3257-470d-9398-a6755e5f1646",
   "metadata": {},
   "outputs": [
    {
     "name": "stdout",
     "output_type": "stream",
     "text": [
      "Original Array:\n",
      "[[1 2 3]\n",
      " [4 5 6]]\n",
      "View Array:\n",
      "[[1 2 3]\n",
      " [4 5 6]]\n"
     ]
    }
   ],
   "source": [
    "# 17. Create a NumPy array and demonstrate the use of ‘'numpy.view’ to create a new array object with the \n",
    "# same data.\n",
    "\n",
    "arr = np.array([[1, 2, 3], [4, 5, 6]])\n",
    "\n",
    "view_arr = arr.view()\n",
    "\n",
    "print(f\"Original Array:\\n{arr}\\nView Array:\\n{view_arr}\")"
   ]
  },
  {
   "cell_type": "code",
   "execution_count": 20,
   "id": "c4ce9535-0677-4cd8-84f7-48bb5762c7a5",
   "metadata": {},
   "outputs": [
    {
     "name": "stdout",
     "output_type": "stream",
     "text": [
      "array1:\n",
      "[[3 5 6]\n",
      " [7 8 9]]\n",
      "array2:\n",
      "[[6 0 1]\n",
      " [2 4 5]]\n",
      "For axis=0 array concatenate vertically:\n",
      "[[3 5 6]\n",
      " [7 8 9]\n",
      " [6 0 1]\n",
      " [2 4 5]]\n",
      "For axis=1 array concatenate horizontally:\n",
      "[[3 5 6 6 0 1]\n",
      " [7 8 9 2 4 5]]\n"
     ]
    }
   ],
   "source": [
    "# 18. Write a function that takes two NumPy arrays and concatenates them along a specified axis.\n",
    "\n",
    "def concate_array(arr1, arr2, ax):\n",
    "    if ax==0:\n",
    "        return np.concatenate((arr1, arr2), ax)\n",
    "    elif ax==1:\n",
    "        return np.concatenate((arr1, arr2), ax)\n",
    "    else:\n",
    "        return \"Axis should be 0 or 1\"\n",
    "    \n",
    "arr1 = np.array([[3, 5, 6], [7, 8, 9]])\n",
    "arr2 = np.array([[6, 0, 1], [2, 4, 5]])\n",
    "\n",
    "print(f\"array1:\\n{arr1}\\narray2:\\n{arr2}\")\n",
    "print(\"For axis=0 array concatenate vertically:\")\n",
    "print(concate_array(arr1, arr2, 0))\n",
    "print(\"For axis=1 array concatenate horizontally:\")\n",
    "print(concate_array(arr1, arr2, 1))"
   ]
  },
  {
   "cell_type": "code",
   "execution_count": 21,
   "id": "632d4fa0-d49c-49c6-9769-93e9b00da48f",
   "metadata": {},
   "outputs": [
    {
     "name": "stdout",
     "output_type": "stream",
     "text": [
      "array1:\n",
      "[[1 2 3]\n",
      " [4 5 6]]\n",
      "array2:\n",
      "[[ 8  9 10 11]\n",
      " [12 13 14 15]]\n",
      "Array after concatenating horixantally:\n",
      "[[ 1  2  3  8  9 10 11]\n",
      " [ 4  5  6 12 13 14 15]]\n"
     ]
    }
   ],
   "source": [
    "# 19. Create two NumPy arrays with different shapes and concatenate them horizontally using ‘numpy. \n",
    "# concatenate’.\n",
    "\n",
    "arr1 = np.arange(1, 7).reshape(2, 3)\n",
    "arr2 = np.arange(8, 16).reshape(2, 4)\n",
    "\n",
    "print(f\"array1:\\n{arr1}\\narray2:\\n{arr2}\")\n",
    "print(f\"Array after concatenating horixantally:\\n{np.concatenate((arr1, arr2), 1)}\")"
   ]
  },
  {
   "cell_type": "code",
   "execution_count": 22,
   "id": "e5323a36-9cb9-4c39-bf07-b30c5d07d8a6",
   "metadata": {},
   "outputs": [
    {
     "name": "stdout",
     "output_type": "stream",
     "text": [
      "array 1:\n",
      "[[1 2 3]\n",
      " [4 5 6]]\n",
      "array 2:\n",
      "[[ 4  5  6]\n",
      " [ 7  8  9]\n",
      " [10 11 12]\n",
      " [13 14 15]]\n",
      "array 3:\n",
      "[[ 3  4  5]\n",
      " [ 6  7  8]\n",
      " [ 9 10 11]]\n",
      "\n",
      "Vertically Stacked array:\n",
      "[[ 1  2  3]\n",
      " [ 4  5  6]\n",
      " [ 4  5  6]\n",
      " [ 7  8  9]\n",
      " [10 11 12]\n",
      " [13 14 15]\n",
      " [ 3  4  5]\n",
      " [ 6  7  8]\n",
      " [ 9 10 11]]\n"
     ]
    }
   ],
   "source": [
    "# 20. Write a function that vertically stacks multiple NumPy arrays given as a list. \n",
    "\n",
    "def verticle_stack(l):\n",
    "    \"\"\"This finction takes list of arrays as input and returns vertically stacke all arrays in list\"\"\"\n",
    "    \n",
    "    return np.vstack(tuple(l))\n",
    "\n",
    "l = [np.arange(1, 7).reshape(2, 3), np.arange(4, 16).reshape(4, 3), np.arange(3, 12).reshape(3, 3)]\n",
    "\n",
    "for i in range(len(l)):\n",
    "    print(f\"array {i+1}:\\n{l[i]}\")\n",
    "print(f\"\\nVertically Stacked array:\\n{verticle_stack(l)}\")"
   ]
  },
  {
   "cell_type": "code",
   "execution_count": 25,
   "id": "7f6ca8a8-0f9b-4e95-9675-c3385c88b631",
   "metadata": {},
   "outputs": [
    {
     "name": "stdout",
     "output_type": "stream",
     "text": [
      "[ 1  3  5  7  9 11 13 15]\n"
     ]
    }
   ],
   "source": [
    "# 21. Write a Python function using NumPy to create an array of integers within a specified range (inclusive) \n",
    "# with a given step size. \n",
    "\n",
    "def create_array(start, stop, step):\n",
    "    \"\"\"This function returns an array within specified range (inclusive) woth a given step size\"\"\"\n",
    "    \n",
    "    return np.arange(start, stop+1, step)\n",
    "\n",
    "print(create_array(1, 15, 2))"
   ]
  },
  {
   "cell_type": "code",
   "execution_count": 44,
   "id": "00ad77bd-851d-471d-b66a-5a5d269b1167",
   "metadata": {},
   "outputs": [
    {
     "name": "stdout",
     "output_type": "stream",
     "text": [
      "[0.         0.11111111 0.22222222 0.33333333 0.44444444 0.55555556\n",
      " 0.66666667 0.77777778 0.88888889 1.        ]\n"
     ]
    }
   ],
   "source": [
    "# 22. Write a Python function using NumPy to generate an array of 10 equally spaced values between 0 and 1 \n",
    "# (inclusive). \n",
    "\n",
    "def gnerate_array():\n",
    "    return np.linspace(0, 1, 10)\n",
    "\n",
    "print(gnerate_array())"
   ]
  },
  {
   "cell_type": "code",
   "execution_count": 33,
   "id": "c94c7d6f-d36b-471a-a257-96a29b475e8d",
   "metadata": {},
   "outputs": [
    {
     "name": "stdout",
     "output_type": "stream",
     "text": [
      "[   1.            5.62341325   31.6227766   177.827941   1000.        ]\n"
     ]
    }
   ],
   "source": [
    "# 23. Write a Python function using NumPy to create an array of 5 logarithmically spaced values between 1and \n",
    "# 1000 (inclusive).\n",
    "\n",
    "def logarithmic_array():\n",
    "    return np.logspace(0,3,5)\n",
    "\n",
    "print(logarithmic_array())"
   ]
  },
  {
   "cell_type": "code",
   "execution_count": 43,
   "id": "6d40652e-3882-4acd-a71b-c3a41f7a818b",
   "metadata": {},
   "outputs": [
    {
     "name": "stdout",
     "output_type": "stream",
     "text": [
      "[[ 9 61 60]\n",
      " [24 86 39]\n",
      " [99 67  8]\n",
      " [70 33 95]\n",
      " [71 26 72]] \n",
      "     0   1   2\n",
      "0   9  61  60\n",
      "1  24  86  39\n",
      "2  99  67   8\n",
      "3  70  33  95\n",
      "4  71  26  72\n"
     ]
    }
   ],
   "source": [
    "# 24. Create a Pandas DataFrame using a NumPy array that contains 5 rows and 3 columns, where the values \n",
    "# are random integers between 1and 100. \n",
    "\n",
    "arr = np.random.randint(1, 100, (5, 3))\n",
    "df = pd.DataFrame(arr)\n",
    "\n",
    "print(arr, '\\n', df)"
   ]
  },
  {
   "cell_type": "code",
   "execution_count": 51,
   "id": "b75cd355-6341-4aca-9ff2-30691f046cbc",
   "metadata": {},
   "outputs": [
    {
     "name": "stdout",
     "output_type": "stream",
     "text": [
      "   A   B\n",
      "0 -1  10\n",
      "1  2 -20\n",
      "2 -3  30\n",
      "3  4 -40\n",
      "4 -5  50\n",
      "5  6  60\n",
      "6  8  70\n",
      "7 -9  80\n",
      "   A   B\n",
      "0  0  10\n",
      "1  2 -20\n",
      "2  0  30\n",
      "3  4 -40\n",
      "4  0  50\n",
      "5  6  60\n",
      "6  8  70\n",
      "7  0  80\n"
     ]
    }
   ],
   "source": [
    "# 25. Write a function that takes a Pandas DataFrame and replaces all negative values in a specific column \n",
    "# with zeros. Use NumPy operations within the Pandas DataFrame.\n",
    "\n",
    "def func(df, col_name):\n",
    "    df[col_name] = np.where(df[col_name] < 0, 0, df[col_name])\n",
    "    return df\n",
    "\n",
    "data = {'A': [-1, 2, -3, 4, -5, 6, 8, -9],\n",
    "        'B': [10, -20, 30, -40, 50, 60, 70, 80]}\n",
    "df = pd.DataFrame(data)\n",
    "\n",
    "print(df)\n",
    "df_modified = func(df, 'A')\n",
    "print(df_modified)\n",
    "# replaced all negative value with 0 in column A"
   ]
  },
  {
   "cell_type": "code",
   "execution_count": 52,
   "id": "8940ee95-b4e9-4d49-b27b-395a2bcbc588",
   "metadata": {},
   "outputs": [
    {
     "name": "stdout",
     "output_type": "stream",
     "text": [
      "30\n"
     ]
    }
   ],
   "source": [
    "# 26. Access the 3rd element from the given NumPy array.\n",
    "\n",
    "arr = np.array([10, 20, 30, 40, 50]) \n",
    "print(arr[2])"
   ]
  },
  {
   "cell_type": "code",
   "execution_count": 56,
   "id": "e1c1e621-81da-4f39-9308-eaaea0df0fa2",
   "metadata": {},
   "outputs": [
    {
     "name": "stdout",
     "output_type": "stream",
     "text": [
      "6\n",
      "6\n"
     ]
    }
   ],
   "source": [
    "# 27.Retrieve the element at index (1, 2) from the 2D NumPy array.\n",
    "\n",
    "arr_2d = np.array([[1, 2, 3], \n",
    "                   [4, 5, 6], \n",
    "                   [7, 8, 9]])\n",
    "\n",
    "print(arr_2d[1, 2])\n",
    "#or\n",
    "print(arr_2d[1][2])"
   ]
  },
  {
   "cell_type": "code",
   "execution_count": 57,
   "id": "e6ef69a3-2564-4d93-add5-ecc9ab141030",
   "metadata": {},
   "outputs": [
    {
     "name": "stdout",
     "output_type": "stream",
     "text": [
      "[ 8 10  7]\n"
     ]
    }
   ],
   "source": [
    "# 28. Using boolean indexing, extract elements greater than 5 from the given NumPy array. \n",
    "\n",
    "arr = np.array([3, 8, 2, 10, 5, 7])\n",
    "\n",
    "print(arr[arr > 5])"
   ]
  },
  {
   "cell_type": "code",
   "execution_count": 59,
   "id": "9cc9d905-4ee9-4faf-b204-9e39ab62d388",
   "metadata": {},
   "outputs": [
    {
     "name": "stdout",
     "output_type": "stream",
     "text": [
      "[3 4 5 6]\n"
     ]
    }
   ],
   "source": [
    "# 29. Perform basic slicing to extract elements from index 2 to 5 (inclusive) from the given NumPy array. \n",
    "\n",
    "arr = np.array([1, 2, 3, 4, 5, 6, 7, 8, 9]) \n",
    "print(arr[2:6])"
   ]
  },
  {
   "cell_type": "code",
   "execution_count": 60,
   "id": "ecaed2b1-2eb5-4045-a6a1-8336b0f48377",
   "metadata": {},
   "outputs": [
    {
     "name": "stdout",
     "output_type": "stream",
     "text": [
      "[[2 3]\n",
      " [5 6]]\n"
     ]
    }
   ],
   "source": [
    "# 30. Slice the 2D NumPy array to extract the sub-array “[[2, 3], [5, 6]] from the given array.\n",
    "\n",
    "arr_2d = np.array([[1, 2, 3],\n",
    "                   [4, 5, 6],\n",
    "                   [7, 8, 9]])\n",
    "\n",
    "print(arr_2d[0:2, 1:])"
   ]
  },
  {
   "cell_type": "code",
   "execution_count": 61,
   "id": "2e9b965c-c820-486c-a67b-4cdda292a61e",
   "metadata": {},
   "outputs": [
    {
     "name": "stdout",
     "output_type": "stream",
     "text": [
      "Extracted elements in specific order: [1 6 8]\n"
     ]
    }
   ],
   "source": [
    "# 31.Write a NumPy function to extract elements in specific order from a given 2D array based on indices \n",
    "# provided in another array. \n",
    "\n",
    "def extract_elements_2d(arr, indices):\n",
    "    return arr[np.arange(len(arr)), indices]\n",
    "\n",
    "arr_2d = np.array([[1, 2, 3],\n",
    "                   [4, 5, 6],\n",
    "                   [7, 8, 9]])\n",
    "\n",
    "indices = np.array([0, 2, 1])\n",
    "\n",
    "result = extract_elements_2d(arr_2d, indices)\n",
    "print(\"Extracted elements in specific order:\", result)"
   ]
  },
  {
   "cell_type": "code",
   "execution_count": 66,
   "id": "c415fd33-2764-4d67-a65d-e150fe83ea13",
   "metadata": {},
   "outputs": [
    {
     "name": "stdout",
     "output_type": "stream",
     "text": [
      "[11 12 13 14 15 16 17 18 19 20 21 22 23 24 25 26 27 28 29 30]\n",
      "[19 20 21 22 23 24 25 26 27 28 29 30]\n"
     ]
    }
   ],
   "source": [
    "# 32. Create a NumPy function that filters elements greater than a threshold from a given 1D array using \n",
    "# boolean indexing.\n",
    "\n",
    "def filter_elements(arr, n):\n",
    "    return arr[arr > n]\n",
    "\n",
    "arr = np.arange(11, 31)\n",
    "print(arr)\n",
    "print(filter_elements(arr, 18))"
   ]
  },
  {
   "cell_type": "code",
   "execution_count": 108,
   "id": "fd6b4a60-817b-4bb8-bf7a-6d126afdafc6",
   "metadata": {},
   "outputs": [
    {
     "name": "stdout",
     "output_type": "stream",
     "text": [
      "[[[ 1  2  3]\n",
      "  [ 4  5  6]\n",
      "  [ 7  8  9]]\n",
      "\n",
      " [[10 11 12]\n",
      "  [13 14 15]\n",
      "  [16 17 18]]\n",
      "\n",
      " [[19 20 21]\n",
      "  [22 23 24]\n",
      "  [25 26 27]]]\n",
      "Extracted elements from the 3D array: [16 20]\n"
     ]
    }
   ],
   "source": [
    "# 33. Develop a NumPy function that extracts specific elements from a 3D array using indices provided in three \n",
    "# separate arrays for each dimension.\n",
    "\n",
    "def extract_elements_3d(arr, indices_dim1, indices_dim2, indices_dim3):\n",
    "    return arr[indices_dim1, indices_dim2, indices_dim3]\n",
    "\n",
    "arr_3d = np.arange(1, 28).reshape(3, 3, 3)\n",
    "\n",
    "indices_dim1 = np.array([1, 2])\n",
    "indices_dim2 = np.array([2, 0])\n",
    "indices_dim3 = np.array([0, 1])\n",
    "\n",
    "result = extract_elements_3d(arr_3d, indices_dim1, indices_dim2, indices_dim3)\n",
    "print(arr_3d)\n",
    "print(\"Extracted elements from the 3D array:\", result)"
   ]
  },
  {
   "cell_type": "code",
   "execution_count": 109,
   "id": "c36e69a0-a370-441a-88b5-b5daad6f241b",
   "metadata": {},
   "outputs": [
    {
     "name": "stdout",
     "output_type": "stream",
     "text": [
      "[ 1  2  3  4  5  6  7  8  9 10]\n",
      "[ 6  8 10]\n"
     ]
    }
   ],
   "source": [
    "# 34. Write a NumPy function that returns elements from an array where both two conditions are satisfied \n",
    "# using boolean indexing.\n",
    "\n",
    "def filtered_elements(arr, cond1, cond2):\n",
    "    return arr[cond1 & cond2]\n",
    "\n",
    "arr = np.arange(1, 11)\n",
    "cond1 = arr > 5\n",
    "cond2 = arr%2 == 0\n",
    "\n",
    "print(arr)\n",
    "print(filtered_elements(arr, cond1, cond2))"
   ]
  },
  {
   "cell_type": "code",
   "execution_count": 110,
   "id": "5f3e5fb1-8b50-487d-b0fe-0411da9ac300",
   "metadata": {},
   "outputs": [
    {
     "name": "stdout",
     "output_type": "stream",
     "text": [
      "[[ 1  2  3  4]\n",
      " [ 5  6  7  8]\n",
      " [ 9 10 11 12]\n",
      " [13 14 15 16]\n",
      " [17 18 19 20]]\n",
      "\n",
      "[15  5]\n"
     ]
    }
   ],
   "source": [
    "# 35. Create a NumPy function that extracts elements from a 2D array using row and column indices provided \n",
    "# in separate arrays. \n",
    "\n",
    "def extract_from_2darray(arr_2d, row_indices, col_indices):\n",
    "    return arr_2d[row_indices, col_indices]\n",
    "\n",
    "arr_2d = np.arange(1, 21).reshape(5, 4)\n",
    "row_indices = np.array([3, 1])\n",
    "col_indices = np.array([2, 0])\n",
    "\n",
    "print(arr_2d)\n",
    "print()\n",
    "print(extract_from_2darray(arr_2d, row_indices, col_indices))"
   ]
  },
  {
   "cell_type": "code",
   "execution_count": 111,
   "id": "9175410c-4e2d-4d28-b109-195648252517",
   "metadata": {},
   "outputs": [
    {
     "name": "stdout",
     "output_type": "stream",
     "text": [
      "[[6 3 8]\n",
      " [1 7 5]\n",
      " [4 9 5]]\n",
      "[[30 15 40]\n",
      " [ 5 35 25]\n",
      " [20 45 25]]\n"
     ]
    }
   ],
   "source": [
    "# 36. Given an array arr of shape (3, 3), add a scalar value of 5 to each element using NumPy broadcasting. \n",
    "\n",
    "arr = np.random.randint(1, 10, (3, 3))\n",
    "scalar = 5\n",
    "print(arr)\n",
    "print(arr*scalar)"
   ]
  },
  {
   "cell_type": "code",
   "execution_count": 116,
   "id": "9fdd502a-2a2b-47f8-952b-038027cad4b2",
   "metadata": {},
   "outputs": [
    {
     "name": "stdout",
     "output_type": "stream",
     "text": [
      "[[4 1 2]]\n",
      "\n",
      "[[5 4 3 6]\n",
      " [2 3 7 6]\n",
      " [6 4 7 6]]\n",
      "\n"
     ]
    },
    {
     "ename": "ValueError",
     "evalue": "operands could not be broadcast together with shapes (1,3) (3,4) ",
     "output_type": "error",
     "traceback": [
      "\u001b[0;31m---------------------------------------------------------------------------\u001b[0m",
      "\u001b[0;31mValueError\u001b[0m                                Traceback (most recent call last)",
      "Cell \u001b[0;32mIn[116], line 11\u001b[0m\n\u001b[1;32m      9\u001b[0m \u001b[38;5;28mprint\u001b[39m(arr2)\n\u001b[1;32m     10\u001b[0m \u001b[38;5;28mprint\u001b[39m()\n\u001b[0;32m---> 11\u001b[0m \u001b[38;5;28mprint\u001b[39m(\u001b[43marr1\u001b[49m\u001b[43m \u001b[49m\u001b[38;5;241;43m*\u001b[39;49m\u001b[43m \u001b[49m\u001b[43marr2\u001b[49m)\n",
      "\u001b[0;31mValueError\u001b[0m: operands could not be broadcast together with shapes (1,3) (3,4) "
     ]
    }
   ],
   "source": [
    "# 37. Consider two arrays arr1 of shape (1, 3) and arr2 of shape (3, 4). Multiply each row of arr2 by the \n",
    "# corresponding element in arr1 using NumPy broadcasting. \n",
    "\n",
    "arr1 = np.random.randint(1, 5, (1, 3))\n",
    "arr2 = np.random.randint(2, 8, (3, 4))\n",
    "\n",
    "print(arr1)\n",
    "print()\n",
    "print(arr2)\n",
    "print()\n",
    "print(arr1 * arr2)"
   ]
  },
  {
   "cell_type": "code",
   "execution_count": 119,
   "id": "9cd66a96-751b-4d1d-8724-afef666b5630",
   "metadata": {},
   "outputs": [
    {
     "name": "stdout",
     "output_type": "stream",
     "text": [
      "[[20 16 12 24]\n",
      " [ 2  3  7  6]\n",
      " [12  8 14 12]]\n"
     ]
    }
   ],
   "source": [
    "# in above code can not brodcast with given shapes but we can transpose arr1 to (3, 1) and brodcasting can be performed\n",
    "arr1 = arr1.T\n",
    "print(arr1 * arr2)"
   ]
  },
  {
   "cell_type": "code",
   "execution_count": 124,
   "id": "d75ad6c3-4731-4f68-96d0-76d06aecfa62",
   "metadata": {},
   "outputs": [
    {
     "name": "stdout",
     "output_type": "stream",
     "text": [
      "[[1 4 4 1]]\n",
      "\n",
      "[[2 7 4]\n",
      " [5 2 3]\n",
      " [4 7 7]\n",
      " [2 3 2]]\n",
      "\n"
     ]
    },
    {
     "ename": "ValueError",
     "evalue": "operands could not be broadcast together with shapes (1,4) (4,3) ",
     "output_type": "error",
     "traceback": [
      "\u001b[0;31m---------------------------------------------------------------------------\u001b[0m",
      "\u001b[0;31mValueError\u001b[0m                                Traceback (most recent call last)",
      "Cell \u001b[0;32mIn[124], line 11\u001b[0m\n\u001b[1;32m      9\u001b[0m \u001b[38;5;28mprint\u001b[39m(arr2)\n\u001b[1;32m     10\u001b[0m \u001b[38;5;28mprint\u001b[39m()\n\u001b[0;32m---> 11\u001b[0m \u001b[38;5;28mprint\u001b[39m(\u001b[43marr1\u001b[49m\u001b[43m \u001b[49m\u001b[38;5;241;43m+\u001b[39;49m\u001b[43m \u001b[49m\u001b[43marr2\u001b[49m)\n",
      "\u001b[0;31mValueError\u001b[0m: operands could not be broadcast together with shapes (1,4) (4,3) "
     ]
    }
   ],
   "source": [
    "# 38. Given a 1D array arr1 of shape (1, 4) and a 2D array arr2 of shape (4, 3), add arr1 to each row of arr2 using \n",
    "# NumPy broadcasting.\n",
    "\n",
    "arr1 = np.random.randint(1, 5, (1, 4))\n",
    "arr2 = np.random.randint(2, 8, (4, 3))\n",
    "\n",
    "print(arr1)\n",
    "print()\n",
    "print(arr2)\n",
    "print()\n",
    "print(arr1 + arr2)"
   ]
  },
  {
   "cell_type": "code",
   "execution_count": 125,
   "id": "88208d04-016e-4136-941e-9b9d82200502",
   "metadata": {},
   "outputs": [
    {
     "name": "stdout",
     "output_type": "stream",
     "text": [
      "[[ 3  8  5]\n",
      " [ 9  6  7]\n",
      " [ 8 11 11]\n",
      " [ 3  4  3]]\n"
     ]
    }
   ],
   "source": [
    "# in above code can not brodcast with given shapes but we can transpose arr1 to (3, 1) and brodcasting can be performed\n",
    "arr1 = arr1.T\n",
    "print(arr1 + arr2)"
   ]
  },
  {
   "cell_type": "code",
   "execution_count": 126,
   "id": "b4ee0824-b9f8-42b8-ae83-f9a724f8aa3b",
   "metadata": {},
   "outputs": [
    {
     "name": "stdout",
     "output_type": "stream",
     "text": [
      "[[4]\n",
      " [2]\n",
      " [3]]\n",
      "\n",
      "[[4 7 3]]\n",
      "\n",
      "[[ 8 11  7]\n",
      " [ 6  9  5]\n",
      " [ 7 10  6]]\n"
     ]
    }
   ],
   "source": [
    "# 39. Consider two arrays arr1 of shape (3, 1) and arr2 of shape (1, 3). Add these arrays using NumPy \n",
    "# broadcasting.\n",
    "\n",
    "arr1 = np.random.randint(1, 5, (3, 1))\n",
    "arr2 = np.random.randint(2, 8, (1, 3))\n",
    "\n",
    "print(arr1)\n",
    "print()\n",
    "print(arr2)\n",
    "print()\n",
    "print(arr1 + arr2)"
   ]
  },
  {
   "cell_type": "code",
   "execution_count": 132,
   "id": "42babacf-896f-42c3-adcc-e2944181514a",
   "metadata": {},
   "outputs": [
    {
     "name": "stdout",
     "output_type": "stream",
     "text": [
      "[[2 3]\n",
      " [1 4]\n",
      " [2 4]]\n",
      "\n",
      "[[2 6]\n",
      " [2 6]]\n",
      "\n",
      "[[10 30]\n",
      " [10 30]\n",
      " [12 36]]\n"
     ]
    }
   ],
   "source": [
    "# 40. Given arrays arr1 of shape (2, 3) and arr2 of shape (2, 2), perform multiplication using NumPy \n",
    "# broadcasting. Handle the shape incompatibility. \n",
    "\n",
    "arr1 = np.random.randint(1, 5, (2, 3))\n",
    "arr2 = np.random.randint(2, 8, (2, 2))\n",
    "\n",
    "arr1 = arr1.T\n",
    "\n",
    "print(arr1)\n",
    "print()\n",
    "print(arr2)\n",
    "print()\n",
    "print(arr1 @ arr2)"
   ]
  },
  {
   "cell_type": "code",
   "execution_count": 138,
   "id": "bafeb9fb-c6e0-43ad-a7aa-a6580b881456",
   "metadata": {},
   "outputs": [
    {
     "name": "stdout",
     "output_type": "stream",
     "text": [
      "[[1 2 3]\n",
      " [4 5 6]]\n",
      "\n",
      "[2.5 3.5 4.5]\n"
     ]
    }
   ],
   "source": [
    "# 41. Calculate column-wise mean for the given array \n",
    "\n",
    "arr = np.array([[1, 2, 3], [4, 5, 6]]) \n",
    "print(arr)\n",
    "print()\n",
    "print(np.mean(arr, axis=0))"
   ]
  },
  {
   "cell_type": "code",
   "execution_count": 139,
   "id": "a9b71134-8829-4cd8-9ec8-a69381f74c6f",
   "metadata": {},
   "outputs": [
    {
     "name": "stdout",
     "output_type": "stream",
     "text": [
      "[[1 2 3]\n",
      " [4 5 6]]\n",
      "\n",
      "[3 6]\n"
     ]
    }
   ],
   "source": [
    "# 42. Find maximum value in each row of the given array: \n",
    "\n",
    "arr = np.array([[1, 2, 3], [4, 5, 6]]) \n",
    "print(arr)\n",
    "print()\n",
    "print(np.max(arr, axis=1))"
   ]
  },
  {
   "cell_type": "code",
   "execution_count": 141,
   "id": "792d5367-00b2-472b-8e08-f2e6ae9d782b",
   "metadata": {},
   "outputs": [
    {
     "name": "stdout",
     "output_type": "stream",
     "text": [
      "[[1 2 3]\n",
      " [4 5 6]]\n",
      "\n",
      "[1 1 1]\n"
     ]
    }
   ],
   "source": [
    "# 43. For the given array, find indices of maximum value in each column. \n",
    "\n",
    "arr = np.array([[1, 2, 3], [4, 5, 6]]) \n",
    "print(arr)\n",
    "print()\n",
    "print(np.argmax(arr, axis=0))"
   ]
  },
  {
   "cell_type": "code",
   "execution_count": 143,
   "id": "56c51fb0-bf07-47b8-86e5-78962d4bfa5a",
   "metadata": {},
   "outputs": [
    {
     "name": "stdout",
     "output_type": "stream",
     "text": [
      "[[1 2 3]\n",
      " [4 5 6]]\n",
      "\n",
      "[[1, 3, 6], [4, 9, 15]]\n"
     ]
    }
   ],
   "source": [
    "# 44.For the given array, apply custom function to calculate moving sum along rows. \n",
    "\n",
    "arr = np.array([[1, 2, 3], [4, 5, 6]])\n",
    "\n",
    "def moving_sum(arr):\n",
    "    result = []\n",
    "    for row in arr:\n",
    "        moving_sum_row = []\n",
    "        total = 0\n",
    "        for num in row:\n",
    "            total += num\n",
    "            moving_sum_row.append(total)\n",
    "        result.append(moving_sum_row)\n",
    "    return result\n",
    "\n",
    "print(arr)\n",
    "print()\n",
    "print(moving_sum(arr))"
   ]
  },
  {
   "cell_type": "code",
   "execution_count": 148,
   "id": "8981608f-fcb5-4690-8cc2-d8f6f9cdb491",
   "metadata": {},
   "outputs": [
    {
     "name": "stdout",
     "output_type": "stream",
     "text": [
      "[[2 4 6]\n",
      " [3 5 7]]\n",
      "\n",
      "[False False False]\n"
     ]
    }
   ],
   "source": [
    "# 45.In the given array, check if all elements in each column are even.\n",
    "\n",
    "arr = np.array([[2, 4, 6], [3, 5, 7]])\n",
    "\n",
    "print(arr)\n",
    "print()\n",
    "print(np.all(arr % 2 == 0, axis=0))"
   ]
  },
  {
   "cell_type": "code",
   "execution_count": 152,
   "id": "4ec098d5-1195-4da1-b2c1-e78b369e909e",
   "metadata": {},
   "outputs": [
    {
     "name": "stdout",
     "output_type": "stream",
     "text": [
      "[[1 2 3]\n",
      " [4 5 6]]\n"
     ]
    }
   ],
   "source": [
    "# 46. Given a NumPy array arr, reshape it into a matrix of dimensions ‘'m’ rows and \"n” columns. Return the \n",
    "# reshaped matrix. \n",
    "\n",
    "original_array = np.array([1, 2, 3, 4, 5, 6])\n",
    "\n",
    "def to_matrix(arr, m, n):\n",
    "    return arr.reshape(m, n)\n",
    "\n",
    "print(to_matrix(original_array, 2, 3))"
   ]
  },
  {
   "cell_type": "code",
   "execution_count": 154,
   "id": "67dce793-ec52-4709-888d-6ef7e1dd89ac",
   "metadata": {},
   "outputs": [
    {
     "name": "stdout",
     "output_type": "stream",
     "text": [
      "[[1 2 3]\n",
      " [4 5 6]]\n",
      "\n",
      "[1 2 3 4 5 6]\n"
     ]
    }
   ],
   "source": [
    "#47. Create a function that takes a matrix as input and returns the flattened array. \n",
    "\n",
    "input_matrix = np.array([[1, 2, 3], [4, 5, 6]]) \n",
    "\n",
    "def flattened_array(mat):\n",
    "    return mat.flatten()\n",
    "\n",
    "print(input_matrix)\n",
    "print()\n",
    "print(flattened_array(input_matrix))"
   ]
  },
  {
   "cell_type": "code",
   "execution_count": 159,
   "id": "7ebd9bc2-6065-46d2-a253-924480811fd1",
   "metadata": {},
   "outputs": [
    {
     "name": "stdout",
     "output_type": "stream",
     "text": [
      "[[1 2]\n",
      " [3 4]\n",
      " [5 6]\n",
      " [7 8]]\n"
     ]
    }
   ],
   "source": [
    "#48. Write a function that concatenates two given arrays along a specified axis. \n",
    "\n",
    "array1 = np.array([[1, 2], [3, 4]])\n",
    "array2 = np.array([[5, 6], [7, 8]])\n",
    "\n",
    "def concate(arr1, arr2, ax):\n",
    "    if ax==0:\n",
    "        return np.concatenate((arr1, arr2), axis=0)\n",
    "    elif ax==1:\n",
    "        return np.concatenate((arr1, arr2), axis=1)\n",
    "    else:\n",
    "        return \"Axis should be 0 or 1\"\n",
    "    \n",
    "print(concate(array1, array2, 0))"
   ]
  },
  {
   "cell_type": "code",
   "execution_count": 164,
   "id": "39204d59-d9c9-4041-8b2c-23df0cf54e92",
   "metadata": {},
   "outputs": [
    {
     "name": "stdout",
     "output_type": "stream",
     "text": [
      "[[1]\n",
      " [4]\n",
      " [7]]\n",
      "\n",
      "[[2]\n",
      " [5]\n",
      " [8]]\n",
      "\n",
      "[[3]\n",
      " [6]\n",
      " [9]]\n",
      "\n"
     ]
    }
   ],
   "source": [
    "# 49. Create a function that splits an array into multiple sub-arrays along a specified axis. \n",
    "\n",
    "original_array = np.array([[1, 2, 3], [4, 5, 6], [7, 8, 9]])\n",
    "\n",
    "def split_array(arr, num_splits, ax):\n",
    "    return np.split(arr, num_splits, axis=ax)\n",
    "\n",
    "splitted_arrays = split_array(original_array, 3, 1)\n",
    "for i in splitted_arrays:\n",
    "    print(i)\n",
    "    print()"
   ]
  },
  {
   "cell_type": "code",
   "execution_count": 166,
   "id": "7b552f77-9814-4a4a-a078-8fe96267f499",
   "metadata": {},
   "outputs": [
    {
     "name": "stdout",
     "output_type": "stream",
     "text": [
      "Original array: [1 2 3 4 5]\n",
      "Array after insertions and deletions: [ 1 10  4 11  5]\n"
     ]
    }
   ],
   "source": [
    "#50. Write a function that inserts and then deletes elements from a given array at specified indices.\n",
    "\n",
    "original_array = np.array([1, 2, 3, 4, 5]) \n",
    "indices_to_insert = [2, 4] \n",
    "values_to_insert = [10, 11] \n",
    "indices_to_delete = [1, 3]\n",
    "\n",
    "def insert_and_delete_elements(original_array, indices_to_insert, values_to_insert, indices_to_delete):\n",
    "    modified_array = np.insert(original_array, indices_to_insert, values_to_insert)\n",
    "    \n",
    "    modified_array = np.delete(modified_array, indices_to_delete)\n",
    "\n",
    "    return modified_array\n",
    "\n",
    "result_array = insert_and_delete_elements(original_array, indices_to_insert, values_to_insert, indices_to_delete)\n",
    "\n",
    "print(\"Original array:\", original_array)\n",
    "print(\"Array after insertions and deletions:\", result_array)"
   ]
  },
  {
   "cell_type": "code",
   "execution_count": 172,
   "id": "ded635b4-bf35-49ed-b526-c444b334dc76",
   "metadata": {},
   "outputs": [
    {
     "name": "stdout",
     "output_type": "stream",
     "text": [
      "[[3 4 7 6 9]\n",
      " [6 4 8 4 3]]\n",
      "\n",
      "[[ 1  2  3  4  5]\n",
      " [ 6  7  8  9 10]]\n",
      "\n",
      "[[ 4  6 10 10 14]\n",
      " [12 11 16 13 13]]\n"
     ]
    }
   ],
   "source": [
    "# 51. Create a NumPy array “arr1” with random integers and another array “arr2’ with integers from 1to 10. \n",
    "# Perform element-wise addition between “arr1” and “arr2’. \n",
    "\n",
    "arr1 = np.random.randint(1, 10, (2, 5))\n",
    "arr2 = np.arange(1, 11).reshape(2, 5)\n",
    "\n",
    "print(arr1)\n",
    "print()\n",
    "print(arr2)\n",
    "print()\n",
    "print(arr1 + arr2)"
   ]
  },
  {
   "cell_type": "code",
   "execution_count": 174,
   "id": "8959d8a8-63f0-4da4-981f-616536879a02",
   "metadata": {},
   "outputs": [
    {
     "name": "stdout",
     "output_type": "stream",
     "text": [
      "[[10  9  8  7  6]\n",
      " [ 5  4  3  2  1]]\n",
      "\n",
      "[[ 1  2  3  4  5]\n",
      " [ 6  7  8  9 10]]\n",
      "\n",
      "[[ 9  7  5  3  1]\n",
      " [-1 -3 -5 -7 -9]]\n"
     ]
    }
   ],
   "source": [
    "# 52. Generate a NumPy array “arr1” with sequential integers from 10 to 1 and another array “arr2” with integers \n",
    "# from 1to 10. Subtract “arr2’ from “arr1” element-wise.\n",
    "\n",
    "arr1 = np.arange(10, 0, -1).reshape(2, 5)\n",
    "arr2 = np.arange(1, 11).reshape(2, 5)\n",
    "\n",
    "print(arr1)\n",
    "print()\n",
    "print(arr2)\n",
    "print()\n",
    "print(arr1 - arr2)"
   ]
  },
  {
   "cell_type": "code",
   "execution_count": 177,
   "id": "629c8d36-bc73-46b4-ac7c-fde93e50045a",
   "metadata": {},
   "outputs": [
    {
     "name": "stdout",
     "output_type": "stream",
     "text": [
      "[[7]\n",
      " [9]\n",
      " [6]\n",
      " [2]\n",
      " [1]]\n",
      "\n",
      "[[1 2 3 4 5]]\n",
      "\n",
      "[[ 7 14 21 28 35]\n",
      " [ 9 18 27 36 45]\n",
      " [ 6 12 18 24 30]\n",
      " [ 2  4  6  8 10]\n",
      " [ 1  2  3  4  5]]\n"
     ]
    }
   ],
   "source": [
    "# 53. Create a NumPy array \"arr1\" with random integers and another array “arr2’ with integers from 1to 5. \n",
    "# Perform element-wise multiplication between “arr1” and “arr2\". \n",
    "\n",
    "arr1 = np.random.randint(1, 10, (5, 1))\n",
    "arr2 = np.arange(1, 6).reshape(1, 5)\n",
    "\n",
    "print(arr1)\n",
    "print()\n",
    "print(arr2)\n",
    "print()\n",
    "print(arr1 * arr2)"
   ]
  },
  {
   "cell_type": "code",
   "execution_count": 179,
   "id": "92007a68-7896-430f-98bb-50ab11e119d9",
   "metadata": {},
   "outputs": [
    {
     "name": "stdout",
     "output_type": "stream",
     "text": [
      "[[ 2  4  6  8 10]]\n",
      "\n",
      "[[1 2 3 4 5]]\n",
      "\n",
      "[[2. 2. 2. 2. 2.]]\n"
     ]
    }
   ],
   "source": [
    "# 54. Generate a NumPy array “arr1” with even integers from 2 to 10 and another array “arr2’ with integers from 1 \n",
    "# to 5. Perform element-wise division of “arr1” by “arr2’. \n",
    "\n",
    "arr1 = np.arange(2, 11, 2).reshape(1, 5)\n",
    "arr2 = np.arange(1, 6).reshape(1, 5)\n",
    "\n",
    "print(arr1)\n",
    "print()\n",
    "print(arr2)\n",
    "print()\n",
    "print(arr1 / arr2)"
   ]
  },
  {
   "cell_type": "code",
   "execution_count": 182,
   "id": "a2f50a53-15fb-4360-b77b-f35023b9b5ad",
   "metadata": {},
   "outputs": [
    {
     "name": "stdout",
     "output_type": "stream",
     "text": [
      "[[1 2 3 4 5]]\n",
      "\n",
      "[[5 4 3 2 1]]\n",
      "\n",
      "[[ 1 16 27 16  5]]\n"
     ]
    }
   ],
   "source": [
    "# 55. Create a NumPy array “arr1’ with integers from 1to 5 and another array “arr2” with the same numbers \n",
    "# reversed. Calculate the exponentiation of “arr1” raised to the power of “arr2” element-wise.\n",
    "\n",
    "arr1 = np.arange(1, 6).reshape(1, 5)\n",
    "arr2 = np.arange(5, 0, -1).reshape(1, 5)\n",
    "\n",
    "print(arr1)\n",
    "print()\n",
    "print(arr2)\n",
    "print()\n",
    "print(np.power(arr1, arr2))"
   ]
  },
  {
   "cell_type": "code",
   "execution_count": 183,
   "id": "2af796f6-4c12-48f5-af78-e382d9d90f3d",
   "metadata": {},
   "outputs": [
    {
     "name": "stdout",
     "output_type": "stream",
     "text": [
      "The substring 'hello' occurs 3 times in the array.\n"
     ]
    }
   ],
   "source": [
    "# 56. Write a function that counts the occurrences of a specific substring within a NumPy array of strings. \n",
    "\n",
    "arr = np.array(['hello', 'world', 'hello', 'numpy', 'hello']) \n",
    "\n",
    "def count_substring(arr, substr):\n",
    "    count = 0\n",
    "    for i in arr:\n",
    "        count += i.count(substr)\n",
    "        \n",
    "    return count\n",
    "\n",
    "substr = 'hello'\n",
    "print(f\"The substring '{substr}' occurs {count_substring(arr, substr)} times in the array.\")"
   ]
  },
  {
   "cell_type": "code",
   "execution_count": 190,
   "id": "272cbbe4-8c59-4edf-8369-622ad371fa72",
   "metadata": {},
   "outputs": [
    {
     "name": "stdout",
     "output_type": "stream",
     "text": [
      "Uppercase characters: ['H', 'W', 'O', 'A', 'I', 'G', 'P', 'T']\n"
     ]
    }
   ],
   "source": [
    "#57. Write a function that extracts uppercase characters from a NumPy array of strings.\n",
    "\n",
    "arr = np.array(['Hello', 'World', 'OpenAI', 'GPT'])\n",
    "\n",
    "def extract_uppercase_chars(arr):\n",
    "    uppercase_chars = [char for string in arr for char in string if char.isupper()]\n",
    "    \n",
    "    return uppercase_chars\n",
    "\n",
    "uppercase_chars = extract_uppercase_chars(arr)\n",
    "print(\"Uppercase characters:\", uppercase_chars)"
   ]
  },
  {
   "cell_type": "code",
   "execution_count": 191,
   "id": "44c161b5-b837-4fa1-bd0a-0492640a9cf6",
   "metadata": {},
   "outputs": [
    {
     "name": "stdout",
     "output_type": "stream",
     "text": [
      "Modified array: ['orange' 'banana' 'grape' 'pineorang']\n"
     ]
    }
   ],
   "source": [
    "#58. Write a function that replaces occurrences of a substring in a NumPy array of strings with a new string. \n",
    "\n",
    "arr = np.array(['apple', 'banana', 'grape', 'pineapple']) \n",
    "\n",
    "def replace_substring(arr, old_substr, new_substr):\n",
    "    for i in range(len(arr)):\n",
    "        arr[i] = arr[i].replace(old_substr, new_substr)\n",
    "    return arr\n",
    "\n",
    "old_substr = 'apple'\n",
    "new_substr = 'orange'\n",
    "new_arr = replace_substring(arr, old_substr, new_substr)\n",
    "print(\"Modified array:\", new_arr)"
   ]
  },
  {
   "cell_type": "code",
   "execution_count": 207,
   "id": "6c664e60-c679-4101-a990-43782cddf776",
   "metadata": {},
   "outputs": [
    {
     "name": "stdout",
     "output_type": "stream",
     "text": [
      "['HelloOpen' 'WorldAI']\n"
     ]
    }
   ],
   "source": [
    "#59. Write a function that concatenates strings in a NumPy array element-wise. \n",
    "arr1 = np.array(['Hello', 'World'])\n",
    "arr2 = np.array(['Open', 'AI']) \n",
    "\n",
    "def concate_string_array(arr1, arr2):\n",
    "    return np.array([arr1[i]+arr2[i] for i in range(len(arr1))])\n",
    "\n",
    "print(concate_string_array(arr1, arr2))"
   ]
  },
  {
   "cell_type": "code",
   "execution_count": 208,
   "id": "0e5c2030-8a5a-49f2-b4d6-913b75c60280",
   "metadata": {},
   "outputs": [
    {
     "name": "stdout",
     "output_type": "stream",
     "text": [
      "9\n"
     ]
    }
   ],
   "source": [
    "#60. Write a function that finds the length of the longest string in a NumPy array.\n",
    "arr = np.array(['apple', 'banana', 'grape', 'pineapple'])\n",
    "\n",
    "def longest_string_length(arr):\n",
    "    str_len = [len(i) for i in arr]\n",
    "    return max(str_len)\n",
    "\n",
    "print(longest_string_length(arr))"
   ]
  },
  {
   "cell_type": "code",
   "execution_count": 209,
   "id": "d6b75c60-5e4e-40fd-9de2-3b9df4730f28",
   "metadata": {},
   "outputs": [
    {
     "name": "stdout",
     "output_type": "stream",
     "text": [
      "Mean: 475.59\n",
      "Median: 546.5\n",
      "Variance: 91478.9819\n",
      "Standard Deviation: 302.4549254021167\n"
     ]
    }
   ],
   "source": [
    "# 61. Create a dataset of 100 random integers between 1 and 1000. Compute the mean, median, variance, and \n",
    "# standard deviation of the dataset using NumPy's functions. \n",
    "\n",
    "dataset = np.random.randint(1, 1001, size=100)\n",
    "\n",
    "mean = np.mean(dataset)\n",
    "\n",
    "median = np.median(dataset)\n",
    "\n",
    "variance = np.var(dataset)\n",
    "\n",
    "std_deviation = np.std(dataset)\n",
    "\n",
    "print(\"Mean:\", mean)\n",
    "print(\"Median:\", median)\n",
    "print(\"Variance:\", variance)\n",
    "print(\"Standard Deviation:\", std_deviation)"
   ]
  },
  {
   "cell_type": "code",
   "execution_count": 211,
   "id": "c6b09be6-9c4e-4dcb-b8ea-4090e5431d1e",
   "metadata": {},
   "outputs": [
    {
     "name": "stdout",
     "output_type": "stream",
     "text": [
      "25th percentile: 28.5\n",
      "75th percentile: 65.0\n"
     ]
    }
   ],
   "source": [
    "# 62. Generate an array of 50 random numbers between 1and 100. Find the 25th and 75th percentiles of the \n",
    "# dataset.\n",
    "\n",
    "arr = np.random.randint(1, 100, size=50)\n",
    "\n",
    "percentile_25th = np.percentile(arr, 25)\n",
    "percentile_75th = np.percentile(arr, 75)\n",
    "\n",
    "print(\"25th percentile:\", percentile_25th)\n",
    "print(\"75th percentile:\", percentile_75th)"
   ]
  },
  {
   "cell_type": "code",
   "execution_count": 227,
   "id": "6ce29489-7064-4f39-b664-6808fd093a2c",
   "metadata": {},
   "outputs": [
    {
     "name": "stdout",
     "output_type": "stream",
     "text": [
      "Correlation coefficient between the two arrays: -1.0\n"
     ]
    }
   ],
   "source": [
    "# 63. Create two arrays representing two sets of variables. Compute the correlation coefficient between these \n",
    "# arrays using NumPy's 'corrcoef' function. \n",
    "\n",
    "array1 = np.array([1, 2, 3, 4, 5])\n",
    "array2 = np.array([5, 4, 3, 2, 1])\n",
    "\n",
    "# Compute the correlation coefficient\n",
    "correlation_coefficient = np.corrcoef(array1, array2)[0, 1]\n",
    "\n",
    "print(\"Correlation coefficient between the two arrays:\", round(correlation_coefficient, 2))"
   ]
  },
  {
   "cell_type": "code",
   "execution_count": 229,
   "id": "62167d53-a805-4f36-bb23-14c326759c54",
   "metadata": {},
   "outputs": [
    {
     "name": "stdout",
     "output_type": "stream",
     "text": [
      "[[3 3 3]\n",
      " [3 4 3]\n",
      " [2 4 2]]\n",
      "\n",
      "[[1 3 2]\n",
      " [3 4 1]\n",
      " [1 1 3]]\n",
      "\n",
      "[[15 24 18]\n",
      " [18 28 19]\n",
      " [16 24 14]]\n"
     ]
    }
   ],
   "source": [
    "# 64. Create two matrices and perform matrix multiplication using NumPy's 'dot' function.\n",
    "\n",
    "arr1 = np.random.randint(1, 5, (3, 3))\n",
    "arr2 = np.random.randint(1, 5, (3, 3))\n",
    "\n",
    "print(arr1)\n",
    "print()\n",
    "print(arr2)\n",
    "print()\n",
    "print(np.dot(arr1, arr2))"
   ]
  },
  {
   "cell_type": "code",
   "execution_count": 244,
   "id": "6f82ccbd-5c10-48ce-835e-b83762c31e0c",
   "metadata": {},
   "outputs": [
    {
     "name": "stdout",
     "output_type": "stream",
     "text": [
      "[405 935 480 427 778 217 497 597 753 925 831 131 440 246 705 106 139 146\n",
      " 908 168 810 660 491 310 100 833 262 189 754 191 222 959 152 313 550 206\n",
      " 527 319 871 466 442 561 159 516  45 453 822 425 881  50]\n",
      "\n",
      "10th percentile: 138.2\n",
      "50th percentile(median): 447.5\n",
      "90th percentile: 872.0\n",
      "25th percentile(first quartile): 208.75\n",
      "75th percentile(third quartile): 741.0\n"
     ]
    }
   ],
   "source": [
    "# 65. Create an array of 50 integers between 10 and 1000. Calculate the 10th, 50th (median), and 90th \n",
    "# percentiles along with the first and third quartiles. \n",
    "\n",
    "arr = np.random.randint(10, 1000, (50,))\n",
    "print(arr)\n",
    "print()\n",
    "print(\"10th percentile:\", np.percentile(arr, 10))\n",
    "print(\"50th percentile(median):\", np.median(arr))\n",
    "print(\"90th percentile:\", np.percentile(arr, 90))\n",
    "print(\"25th percentile(first quartile):\", np.percentile(arr, 25))\n",
    "print(\"75th percentile(third quartile):\", np.percentile(arr, 75))"
   ]
  },
  {
   "cell_type": "code",
   "execution_count": 245,
   "id": "d6b82ab3-eccf-437a-a42e-f5f3e3bf7bbd",
   "metadata": {},
   "outputs": [
    {
     "name": "stdout",
     "output_type": "stream",
     "text": [
      "Index of 30: [2]\n"
     ]
    }
   ],
   "source": [
    "# 66. Create a NumPy array of integers and find the index of a specific element. \n",
    "\n",
    "arr = np.array([10, 20, 30, 40, 50])\n",
    "element = 30\n",
    "\n",
    "index = np.where(arr == element)[0]\n",
    "\n",
    "print(f\"Index of {element}: {index}\")"
   ]
  },
  {
   "cell_type": "code",
   "execution_count": 252,
   "id": "5dc59c2c-3baf-4e6b-bb92-f6bc8b383071",
   "metadata": {},
   "outputs": [
    {
     "name": "stdout",
     "output_type": "stream",
     "text": [
      "[83 30 29 60 16 79 34 88 71  1 10  8 55 57 71 81  8 98 19 28  4 24 21 60\n",
      " 99 43 86 11 53 93]\n",
      "Sorted array: [ 1  4  8  8 10 11 16 19 21 24 28 29 30 34 43 53 55 57 60 60 71 71 79 81\n",
      " 83 86 88 93 98 99]\n"
     ]
    }
   ],
   "source": [
    "# 67. Generate a random NumPy array and sort it in ascending order. \n",
    "\n",
    "arr = np.random.randint(1, 100, 30)\n",
    "print(arr)\n",
    "print(f\"Sorted array: {np.sort(arr)}\")"
   ]
  },
  {
   "cell_type": "code",
   "execution_count": 253,
   "id": "0d900b78-b9ed-49e6-8163-f03b727b2ce7",
   "metadata": {},
   "outputs": [
    {
     "name": "stdout",
     "output_type": "stream",
     "text": [
      "[25 42 30]\n"
     ]
    }
   ],
   "source": [
    "# 68. Filter elements >20 in the given NumPy array. \n",
    "arr = np.array([12, 25, 6, 42, 8, 30]) \n",
    "\n",
    "print(arr[arr > 20])"
   ]
  },
  {
   "cell_type": "code",
   "execution_count": 254,
   "id": "d8d56552-7df1-404d-968e-f6a6aa0ca9bd",
   "metadata": {},
   "outputs": [
    {
     "name": "stdout",
     "output_type": "stream",
     "text": [
      "[12 15]\n"
     ]
    }
   ],
   "source": [
    "#69. Filter elements which are divisible by 3 from a given NumPy array. \n",
    "arr = np.array([1, 5, 8, 12, 15])\n",
    "\n",
    "print(arr[arr%3==0])"
   ]
  },
  {
   "cell_type": "code",
   "execution_count": 256,
   "id": "8210d0cf-4b56-460f-b430-2f25fdf542dc",
   "metadata": {},
   "outputs": [
    {
     "name": "stdout",
     "output_type": "stream",
     "text": [
      "[20 30 40]\n"
     ]
    }
   ],
   "source": [
    "#70. Filter elements which are >= 20 and <= 40 from a given NumPy array. \n",
    "arr = np.array([10, 20, 30, 40, 50]) \n",
    "\n",
    "print(arr[(arr >= 20) & (arr <= 40)])"
   ]
  },
  {
   "cell_type": "code",
   "execution_count": 257,
   "id": "61b66482-3672-408a-a672-0b1c52f6170c",
   "metadata": {},
   "outputs": [
    {
     "name": "stdout",
     "output_type": "stream",
     "text": [
      "=\n"
     ]
    }
   ],
   "source": [
    "#71. For the given NumPy array, check its byte order using the 'dtype' attribute byteorder. \n",
    "arr = np.array([1, 2, 3]) \n",
    "\n",
    "print(arr.dtype.byteorder)"
   ]
  },
  {
   "cell_type": "code",
   "execution_count": 258,
   "id": "8e51ffad-00a5-4ecd-a3c9-6c09a73dc341",
   "metadata": {},
   "outputs": [
    {
     "name": "stdout",
     "output_type": "stream",
     "text": [
      "Array after byte swapping: [16777216 33554432 50331648]\n"
     ]
    }
   ],
   "source": [
    "#72.For the given NumPy array, perform byte swapping in place using 'byteswap()'. \n",
    "arr = np.array([1, 2, 3], dtype=np.int32)\n",
    "\n",
    "arr.byteswap(True)\n",
    "\n",
    "print(\"Array after byte swapping:\", arr)"
   ]
  },
  {
   "cell_type": "code",
   "execution_count": 259,
   "id": "2684de72-8e44-490e-bcf3-f999938ab032",
   "metadata": {},
   "outputs": [
    {
     "name": "stdout",
     "output_type": "stream",
     "text": [
      "Original Array: [1 2 3]\n",
      "Swapped Byte Order Array: [16777216 33554432 50331648]\n"
     ]
    }
   ],
   "source": [
    "#73. For the given NumPy array, swap its byte order without modifying the original array using 'newbyteorder()'. \n",
    "arr = np.array([1, 2, 3], dtype=np.int32)\n",
    "\n",
    "swapped_arr = arr.newbyteorder()\n",
    "\n",
    "print(\"Original Array:\", arr)\n",
    "print(\"Swapped Byte Order Array:\", swapped_arr)"
   ]
  },
  {
   "cell_type": "code",
   "execution_count": 261,
   "id": "b6cee659-758d-4523-9553-d1bcb455a695",
   "metadata": {},
   "outputs": [
    {
     "name": "stdout",
     "output_type": "stream",
     "text": [
      "System endianness matches array byte order. No need to swap.\n",
      "Array: [1 2 3]\n"
     ]
    }
   ],
   "source": [
    "#74. For the given NumPy array and swap its byte order conditionally based on system endianness using 'newbyteorder()'. \n",
    "arr = np.array([1, 2, 3], dtype=np.int32)\n",
    "\n",
    "system_endianness = np.dtype(np.int32).byteorder\n",
    "\n",
    "if system_endianness != arr.dtype.byteorder:\n",
    "    swapped_arr = arr.newbyteorder()\n",
    "\n",
    "    print(\"Original Array:\", arr)\n",
    "    print(\"Swapped Byte Order Array:\", swapped_arr)\n",
    "else:\n",
    "    print(\"System endianness matches array byte order. No need to swap.\")\n",
    "    print(\"Array:\", arr)"
   ]
  },
  {
   "cell_type": "code",
   "execution_count": 262,
   "id": "1a3f0418-5a3b-456d-89f1-9d8edc2c5a7b",
   "metadata": {},
   "outputs": [
    {
     "name": "stdout",
     "output_type": "stream",
     "text": [
      "No byte swapping is necessary for the current system.\n"
     ]
    }
   ],
   "source": [
    "#75. For the given NumPy array, check if byte swapping is necessary for the current system using “dtype” \n",
    "# attribute \"byteorder\". \n",
    "arr = np.array([1, 2, 3], dtype=np.int32)\n",
    "\n",
    "system_endianness = np.dtype(np.int32).byteorder\n",
    "\n",
    "if system_endianness != arr.dtype.byteorder:\n",
    "    print(\"Byte swapping is necessary for the current system.\")\n",
    "else:\n",
    "    print(\"No byte swapping is necessary for the current system.\")"
   ]
  },
  {
   "cell_type": "code",
   "execution_count": 296,
   "id": "b574474b-de64-4a2e-8c1d-b641e20366ed",
   "metadata": {},
   "outputs": [
    {
     "name": "stdout",
     "output_type": "stream",
     "text": [
      "Original array: [ 1  2  3  4  5  6  7  8  9 10]\n",
      "Copied array after modification: [ 2  2  3  4  5  6  7  8  9 10]\n"
     ]
    }
   ],
   "source": [
    "# 76. Create a NumPy array “arr1” with values from 1to 10. Create a copy of “arr1’ named ‘copy_arr” and modify \n",
    "# an element in “copy_arr\". Check if modifying ‘copy_arr affects “arr1\". \n",
    "\n",
    "arr1 = np.arange(1, 11)\n",
    "copy_arr = arr1.copy()\n",
    "copy_arr[0] = 2\n",
    "\n",
    "print(f\"Original array: {arr1}\")\n",
    "print(f\"Copied array after modification: {copy_arr}\")"
   ]
  },
  {
   "cell_type": "code",
   "execution_count": 297,
   "id": "a98044c8-b0ea-4b1e-96ef-cf8d4c8c0896",
   "metadata": {},
   "outputs": [
    {
     "name": "stdout",
     "output_type": "stream",
     "text": [
      "Original array\n",
      ":[[3 4 8]\n",
      " [8 2 2]\n",
      " [6 8 6]]\n",
      "View slice: [8 2 2]\n",
      "View slice after modification: [ 8  2 12]\n",
      "Original array after modification view slice\n",
      ":[[ 3  4  8]\n",
      " [ 8  2 12]\n",
      " [ 6  8  6]]\n"
     ]
    }
   ],
   "source": [
    "# 77. Create a 2D NumPy array \"matrix\" of shape (3, 3) with random integers. Extract a slice “view_slice” from \n",
    "# the matrix. Modify an element in “view_slice” and observe if it changes the original \"matrix\" . \n",
    "\n",
    "matrix = np.random.randint(1, 10, (3, 3))\n",
    "view_slice = matrix[1]\n",
    "\n",
    "print(f\"Original array\\n:{matrix}\")\n",
    "print(f\"View slice: {view_slice}\")\n",
    "\n",
    "view_slice[2] = 12\n",
    "\n",
    "print(f\"View slice after modification: {view_slice}\")\n",
    "print(f\"Original array after modification view slice\\n:{matrix}\")"
   ]
  },
  {
   "cell_type": "code",
   "execution_count": 306,
   "id": "d39bb924-9532-422e-9fd3-b623ae6d6c09",
   "metadata": {},
   "outputs": [
    {
     "name": "stdout",
     "output_type": "stream",
     "text": [
      "Original array\n",
      ":[[ 1  2  3]\n",
      " [ 4  5  6]\n",
      " [ 7  8  9]\n",
      " [10 11 12]]\n",
      "view_b slice: [4 5 6]\n",
      "view_b slice after brodcasting: [ 9 10 11]\n",
      "Original array after brodcasting view_b slice\n",
      ":[[ 1  2  3]\n",
      " [ 4  5  6]\n",
      " [ 7  8  9]\n",
      " [10 11 12]]\n"
     ]
    }
   ],
   "source": [
    "# 78. Create a NumPy array \"array_a\" of shape (4, 3) with sequential integers from 1to 12. Extract a slice \n",
    "# \"view_b\" from \"array_a\" and broadcast the addition of 5 to view_b. Check if it alters the original “array_a\". \n",
    "\n",
    "array_a = np.arange(1, 13).reshape(4,3)\n",
    "\n",
    "view_b = array_a[1]\n",
    "\n",
    "print(f\"Original array\\n:{array_a}\")\n",
    "print(f\"view_b slice: {view_b}\")\n",
    "\n",
    "view_b = view_b + 5\n",
    "\n",
    "print(f\"view_b slice after brodcasting: {view_b}\")\n",
    "print(f\"Original array after brodcasting view_b slice\\n:{array_a}\")"
   ]
  },
  {
   "cell_type": "code",
   "execution_count": 307,
   "id": "a81b337f-c972-4e53-97c8-58572a8f5f5b",
   "metadata": {},
   "outputs": [
    {
     "name": "stdout",
     "output_type": "stream",
     "text": [
      "Original array:\n",
      "[[1 2 3 4]\n",
      " [5 6 7 8]]\n",
      "Reshaped View:\n",
      "[[1 5]\n",
      " [2 6]\n",
      " [3 7]\n",
      " [4 8]]\n",
      "Reshaped View after modifying :\n",
      "[[1 5]\n",
      " [2 6]\n",
      " [3 9]\n",
      " [4 8]]\n",
      "Original array after modifying reshaped view:\n",
      "[[1 2 3 4]\n",
      " [5 6 9 8]]\n"
     ]
    }
   ],
   "source": [
    "# 79. Create a NumPy array 'orig_array' of shape (2, 4) with values from 1to 8. Create a reshaped view \n",
    "# 'reshaped_view' of shape (4, 2) from orig_array. Modify an element in ‘reshaped_view’ and check if it \n",
    "# reflects changes in the original 'orig_array'.\n",
    "\n",
    "orig_array = np.arange(1, 9).reshape(2, 4)\n",
    "reshaped_view = orig_array.T\n",
    "\n",
    "print(f\"Original array:\\n{orig_array}\")\n",
    "print(f\"Reshaped View:\\n{reshaped_view}\")\n",
    "\n",
    "reshaped_view[2][1] = 9\n",
    "\n",
    "print(f\"Reshaped View after modifying :\\n{reshaped_view}\")\n",
    "print(f\"Original array after modifying reshaped view:\\n{orig_array}\")"
   ]
  },
  {
   "cell_type": "code",
   "execution_count": 308,
   "id": "1510f34e-06d2-460b-b7a6-91a691fabc3a",
   "metadata": {},
   "outputs": [
    {
     "name": "stdout",
     "output_type": "stream",
     "text": [
      "Original array:\n",
      "[[2 6 2 4]\n",
      " [8 4 3 4]\n",
      " [9 1 7 9]]\n",
      "Data_copy:\n",
      "[6 8 9 7 9]\n",
      "Data_copy after modifying:\n",
      "[ 6  8 15  7  9]\n",
      "Original array after modifying data_copy:\n",
      "[[2 6 2 4]\n",
      " [8 4 3 4]\n",
      " [9 1 7 9]]\n"
     ]
    }
   ],
   "source": [
    "# 80. Create a NumPy array 'data' of shape (3, 4) with random integers. Extract a copy 'data_copy' of \n",
    "# elements greater than 5. Modify an element in “data_copy” and verify if it affects the original ‘data’. \n",
    "\n",
    "data = np.random.randint(1, 10, (3, 4))\n",
    "data_copy = data[data > 5]\n",
    "\n",
    "print(f\"Original array:\\n{data}\")\n",
    "print(f\"Data_copy:\\n{data_copy}\")\n",
    "\n",
    "data_copy[2] = 15\n",
    "\n",
    "print(f\"Data_copy after modifying:\\n{data_copy}\")\n",
    "print(f\"Original array after modifying data_copy:\\n{data}\")"
   ]
  },
  {
   "cell_type": "code",
   "execution_count": 311,
   "id": "e4c29df0-ddfa-429d-9759-f03c7a12a1ea",
   "metadata": {},
   "outputs": [
    {
     "name": "stdout",
     "output_type": "stream",
     "text": [
      "array A:\n",
      "[[4 2 3]\n",
      " [2 4 4]\n",
      " [3 3 3]]\n",
      "array B:\n",
      "[[4 4 8]\n",
      " [7 7 5]\n",
      " [6 4 8]]\n",
      "Addition of arrays:\n",
      "[[ 8  6 11]\n",
      " [ 9 11  9]\n",
      " [ 9  7 11]]\n",
      "Subtraction of arrays:\n",
      "[[ 0 -2 -5]\n",
      " [-5 -3 -1]\n",
      " [-3 -1 -5]]\n"
     ]
    }
   ],
   "source": [
    "# 81. Create two matrices A and B of identical shape containing integers and perform addition and subtraction \n",
    "# operations between them.\n",
    "\n",
    "A = np.random.randint(1, 5, (3, 3))\n",
    "B = np.random.randint(4, 9, (3, 3))\n",
    "\n",
    "print(f\"array A:\\n{A}\")\n",
    "print(f\"array B:\\n{B}\")\n",
    "\n",
    "print(f\"Addition of arrays:\\n{A+B}\")\n",
    "print(f\"Subtraction of arrays:\\n{A-B}\")"
   ]
  },
  {
   "cell_type": "code",
   "execution_count": 314,
   "id": "8f6094bc-c7c5-4759-8103-aef4bd4fbf66",
   "metadata": {},
   "outputs": [
    {
     "name": "stdout",
     "output_type": "stream",
     "text": [
      "Matrix multiplication of array C and D:\n",
      "[[15 14 15 17]\n",
      " [ 6  5  6  7]\n",
      " [18 15 18 21]]\n"
     ]
    }
   ],
   "source": [
    "# 82. Generate two matrices \"C\" (3x2) and \"D\" (2x4) and perform matrix multiplication. \n",
    "\n",
    "C = np.random.randint(1, 5, (3, 2))\n",
    "D = np.random.randint(1, 5, (2, 4))\n",
    "\n",
    "print(f\"Matrix multiplication of array C and D:\\n{C @ D}\")"
   ]
  },
  {
   "cell_type": "code",
   "execution_count": 316,
   "id": "dc70f271-5759-49e6-8515-7954a079ceee",
   "metadata": {},
   "outputs": [
    {
     "name": "stdout",
     "output_type": "stream",
     "text": [
      "Matrix E:\n",
      "[[ 1  2  3  4  5  6]\n",
      " [ 7  8  9 10 11 12]]\n",
      "Transpose of E:\n",
      "[[ 1  7]\n",
      " [ 2  8]\n",
      " [ 3  9]\n",
      " [ 4 10]\n",
      " [ 5 11]\n",
      " [ 6 12]]\n"
     ]
    }
   ],
   "source": [
    "# 83. Create a matrix \"E\" and find its transpose. \n",
    "\n",
    "E = np.arange(1, 13).reshape(2, 6)\n",
    "E_transpose = E.T\n",
    "\n",
    "print(f\"Matrix E:\\n{E}\")\n",
    "print(f\"Transpose of E:\\n{E_transpose}\")"
   ]
  },
  {
   "cell_type": "code",
   "execution_count": 322,
   "id": "5fcdc6bf-e2c3-4da2-9cf9-170b902917b5",
   "metadata": {},
   "outputs": [
    {
     "name": "stdout",
     "output_type": "stream",
     "text": [
      "Matrix F:\n",
      "[[1 2 3]\n",
      " [4 5 6]\n",
      " [7 8 9]]\n",
      "Determinant of Matrix F: 0.0\n"
     ]
    }
   ],
   "source": [
    "# 84. Generate a square matrix \"F\" and compute its determinant.\n",
    "\n",
    "F = np.arange(1, 10).reshape(3, 3)\n",
    "\n",
    "determinant = np.linalg.det(F)\n",
    "\n",
    "print(f\"Matrix F:\\n{F}\")\n",
    "print(f\"Determinant of Matrix F: {determinant}\")"
   ]
  },
  {
   "cell_type": "code",
   "execution_count": 323,
   "id": "24af26b4-4c48-41a5-9e8c-948135471199",
   "metadata": {},
   "outputs": [
    {
     "name": "stdout",
     "output_type": "stream",
     "text": [
      "Matrix G:\n",
      "[[2 4]\n",
      " [1 1]]\n",
      "Inverse of Matrix G:\n",
      "[[-0.5  2. ]\n",
      " [ 0.5 -1. ]]\n"
     ]
    }
   ],
   "source": [
    "# 85. Create a square matrix “G” and find its inverse.\n",
    "\n",
    "G = np.random.randint(1, 5, (2, 2))\n",
    "inverse_G = np.linalg.inv(G)\n",
    "\n",
    "print(f\"Matrix G:\\n{G}\")\n",
    "print(f\"Inverse of Matrix G:\\n{inverse_G}\")"
   ]
  },
  {
   "cell_type": "code",
   "execution_count": null,
   "id": "79aab04b-e809-4009-93a6-e1a217aab5e5",
   "metadata": {},
   "outputs": [],
   "source": []
  }
 ],
 "metadata": {
  "kernelspec": {
   "display_name": "Python 3 (ipykernel)",
   "language": "python",
   "name": "python3"
  },
  "language_info": {
   "codemirror_mode": {
    "name": "ipython",
    "version": 3
   },
   "file_extension": ".py",
   "mimetype": "text/x-python",
   "name": "python",
   "nbconvert_exporter": "python",
   "pygments_lexer": "ipython3",
   "version": "3.10.8"
  }
 },
 "nbformat": 4,
 "nbformat_minor": 5
}
